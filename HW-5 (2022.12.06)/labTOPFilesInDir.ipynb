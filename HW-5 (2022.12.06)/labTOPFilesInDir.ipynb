{
 "cells": [
  {
   "attachments": {},
   "cell_type": "markdown",
   "metadata": {},
   "source": [
    "# HW:\n",
    "- По заданной папке\n",
    "  - Показать ТОП самых больших файлов (по размеру)\n",
    "  - Показать ТОП самых маленьких файлов (по размеру)\n",
    "  - Показать ТОП самых длинных имён файлов\n",
    "  - Показать ТОП самых коротких имён файлов\n",
    "  - Показать ТОП самых часто используемых имён файлов и процентов (т.е. название, кол-во, процент)\n",
    "  - Показать ТОП самых длинных расширений файлов\n",
    "  - Показать ТОП самых коротких расширений файлов\n",
    "  - Показать ТОП самых часто используемых расширений файлов и процентов (т.е. расширение, кол-во, процент)\n",
    "  - Показать ТОП самых длинных полных путей к файлам\n",
    " \n",
    "  - Показать ТОП самых длинных путей к каталогам (например, с:\\windows\\help\\fgf\\...\\...)\n",
    "  - Показать ТОП каталогов, где больше всего файлов (т.е. полный путь, кол-во файлов)\n",
    "  - Показать ТОП каталогов, где больше всего подкаталогов (т.е. полный путь, кол-во подкаталогов)\n"
   ]
  },
  {
   "cell_type": "code",
   "execution_count": 31,
   "metadata": {},
   "outputs": [],
   "source": [
    "import os"
   ]
  },
  {
   "cell_type": "code",
   "execution_count": 42,
   "metadata": {},
   "outputs": [
    {
     "name": "stdout",
     "output_type": "stream",
     "text": [
      "drawChessboard.py: 1938 byte\n",
      "matrixRotate.py: 1847 byte\n",
      "drawBomberman.py: 1525 byte\n",
      "drawTableANSII.py: 52 byte\n"
     ]
    }
   ],
   "source": [
    "# Показать ТОП самых больших файлов (по размеру)\n",
    "\n",
    "path = os.path.abspath(input(\"Введите путь папки\"))\n",
    "files_dict = {}\n",
    "  \n",
    "for folder, subfolders, files in os.walk(path):\n",
    "    for file in files:\n",
    "        size = os.stat(os.path.join( folder, file  )).st_size\n",
    "        files_dict[file] = size\n",
    "\n",
    "#print(files_dict)\n",
    "\n",
    "sorted_values = sorted(files_dict.values(), reverse=True)\n",
    "sorted_dict = {}\n",
    "\n",
    "for i in sorted_values:\n",
    "    for k in files_dict.keys():\n",
    "        if files_dict[k] == i:\n",
    "            sorted_dict[k] = files_dict[k]\n",
    "            break\n",
    "\n",
    "for i in sorted_dict.items():\n",
    "    print(\"{}: {} byte\".format(i[0], i[1]))"
   ]
  },
  {
   "cell_type": "code",
   "execution_count": 45,
   "metadata": {},
   "outputs": [
    {
     "name": "stdout",
     "output_type": "stream",
     "text": [
      "drawTableANSII.py: 52 byte\n",
      "drawBomberman.py: 1525 byte\n",
      "matrixRotate.py: 1847 byte\n",
      "drawChessboard.py: 1938 byte\n"
     ]
    }
   ],
   "source": [
    "# Показать ТОП самых маленьких файлов (по размеру)\n",
    "\n",
    "path = os.path.abspath(input(\"Введите путь папки\"))\n",
    "files_dict = {}\n",
    "  \n",
    "for folder, subfolders, files in os.walk(path):\n",
    "    for file in files:\n",
    "        size = os.stat(os.path.join( folder, file  )).st_size\n",
    "        files_dict[file] = size\n",
    "\n",
    "#print(files_dict)\n",
    "\n",
    "sorted_values = sorted(files_dict.values(), reverse=False)\n",
    "sorted_dict = {}\n",
    "\n",
    "for i in sorted_values:\n",
    "    for k in files_dict.keys():\n",
    "        if files_dict[k] == i:\n",
    "            sorted_dict[k] = files_dict[k]\n",
    "            break\n",
    "\n",
    "for i in sorted_dict.items():\n",
    "    print(\"{}: {} byte\".format(i[0], i[1]))"
   ]
  },
  {
   "cell_type": "code",
   "execution_count": 8,
   "metadata": {},
   "outputs": [
    {
     "name": "stdout",
     "output_type": "stream",
     "text": [
      "drawChessboard.py\n",
      "drawTableANSII.py\n",
      "drawBomberman.py\n",
      "matrixRotate.py\n"
     ]
    }
   ],
   "source": [
    "# Показать ТОП самых длинных имён файлов\n",
    "\n",
    "path = os.path.abspath(input(\"Введите путь папки\"))\n",
    "file_names = []\n",
    "  \n",
    "for folder, subfolders, files in os.walk(path):\n",
    "    for file in files:\n",
    "        file_names.append(file)\n",
    "\n",
    "file_names.sort(key=len, reverse=True)\n",
    "\n",
    "\n",
    "for i in file_names:\n",
    "    print(\"{}\".format(i))"
   ]
  },
  {
   "cell_type": "code",
   "execution_count": 9,
   "metadata": {},
   "outputs": [
    {
     "name": "stdout",
     "output_type": "stream",
     "text": [
      "matrixRotate.py\n",
      "drawBomberman.py\n",
      "drawChessboard.py\n",
      "drawTableANSII.py\n"
     ]
    }
   ],
   "source": [
    "# Показать ТОП самых коротких имён файлов\n",
    "\n",
    "path = os.path.abspath(input(\"Введите путь папки\"))\n",
    "file_names = []\n",
    "  \n",
    "for folder, subfolders, files in os.walk(path):\n",
    "    for file in files:\n",
    "        file_names.append(file)\n",
    "\n",
    "file_names.sort(key=len, reverse=False)\n",
    "\n",
    "\n",
    "for i in file_names:\n",
    "    print(\"{}\".format(i))"
   ]
  },
  {
   "cell_type": "code",
   "execution_count": null,
   "metadata": {},
   "outputs": [],
   "source": [
    "# Показать ТОП самых часто используемых имён файлов и процентов (т.е. название, кол-во, процент)\n"
   ]
  },
  {
   "cell_type": "code",
   "execution_count": 18,
   "metadata": {},
   "outputs": [
    {
     "name": "stdout",
     "output_type": "stream",
     "text": [
      "ipynb\n",
      "PNG\n",
      "py\n"
     ]
    }
   ],
   "source": [
    "# Показать ТОП самых длинных расширений файлов\n",
    "\n",
    "path = os.path.abspath(input(\"Введите путь папки\"))\n",
    "\n",
    "extensions = []\n",
    "\n",
    "for folder, subfolders, files in os.walk(path):\n",
    "    for file in files:\n",
    "        extensions.append(file.split(\".\")[-1])\n",
    "\n",
    "extensions = list(set(extensions))\n",
    "\n",
    "extensions.sort(key=len, reverse=True)\n",
    "\n",
    "for i in extensions:\n",
    "    print(\"{}\".format(i))"
   ]
  },
  {
   "cell_type": "code",
   "execution_count": 19,
   "metadata": {},
   "outputs": [
    {
     "name": "stdout",
     "output_type": "stream",
     "text": [
      "py\n",
      "PNG\n",
      "ipynb\n"
     ]
    }
   ],
   "source": [
    "# Показать ТОП самых коротких расширений файлов\n",
    "\n",
    "path = os.path.abspath(input(\"Введите путь папки\"))\n",
    "\n",
    "extensions = []\n",
    "\n",
    "for folder, subfolders, files in os.walk(path):\n",
    "    for file in files:\n",
    "        extensions.append(file.split(\".\")[-1])\n",
    "\n",
    "extensions = list(set(extensions))\n",
    "\n",
    "extensions.sort(key=len, reverse=False)\n",
    "\n",
    "for i in extensions:\n",
    "    print(\"{}\".format(i))"
   ]
  },
  {
   "cell_type": "code",
   "execution_count": 29,
   "metadata": {},
   "outputs": [
    {
     "name": "stdout",
     "output_type": "stream",
     "text": [
      "ipynb: 2 | 16.67%\n",
      "PNG: 5 | 41.67%\n",
      "py: 5 | 41.67%\n"
     ]
    }
   ],
   "source": [
    "# Показать ТОП самых часто используемых расширений файлов и процентов (т.е. расширение, кол-во, процент)\n",
    "from collections import Counter\n",
    "\n",
    "path = os.path.abspath(input(\"Введите путь папки\"))\n",
    "\n",
    "extensions = []\n",
    "\n",
    "for folder, subfolders, files in os.walk(path):\n",
    "    for file in files:\n",
    "        extensions.append(file.split(\".\")[-1])\n",
    "\n",
    "counterOfExtensions = Counter(extensions)\n",
    "\n",
    "for i in counterOfExtensions.items():\n",
    "    print(\"{}: {} | {}%\".format(i[0], i[1], round(i[1]/len(extensions) * 100, 2)))\n"
   ]
  },
  {
   "cell_type": "code",
   "execution_count": 39,
   "metadata": {},
   "outputs": [
    {
     "name": "stdout",
     "output_type": "stream",
     "text": [
      "C:\\Users\\Asus\\Desktop\\Labs\\Programming\\224-322.py\\HW_08.11.2022\\colorConsole256.PNG\n",
      "C:\\Users\\Asus\\Desktop\\Labs\\Programming\\224-322.py\\HW_08.11.2022\\colorConsole16.PNG\n",
      "C:\\Users\\Asus\\Desktop\\Labs\\Programming\\224-322.py\\HW_08.11.2022\\colorConsole256.py\n",
      "C:\\Users\\Asus\\Desktop\\Labs\\Programming\\224-322.py\\HW_08.11.2022\\colorConsole16.py\n",
      "C:\\Users\\Asus\\Desktop\\Labs\\Programming\\224-322.py\\HW_08.11.2022\\drawRectangle.PNG\n",
      "C:\\Users\\Asus\\Desktop\\Labs\\Programming\\224-322.py\\HW_08.11.2022\\drawRectangle.py\n",
      "C:\\Users\\Asus\\Desktop\\Labs\\Programming\\224-322.py\\HW_08.11.2022\\alphabet.ipynb\n",
      "C:\\Users\\Asus\\Desktop\\Labs\\Programming\\224-322.py\\HW_08.11.2022\\drawSpiral.PNG\n",
      "C:\\Users\\Asus\\Desktop\\Labs\\Programming\\224-322.py\\HW_08.11.2022\\drawSnake.PNG\n",
      "C:\\Users\\Asus\\Desktop\\Labs\\Programming\\224-322.py\\HW_08.11.2022\\drawSpiral.py\n",
      "C:\\Users\\Asus\\Desktop\\Labs\\Programming\\224-322.py\\HW_08.11.2022\\drawSnake.py\n",
      "C:\\Users\\Asus\\Desktop\\Labs\\Programming\\224-322.py\\HW_08.11.2022\\random.ipynb\n"
     ]
    }
   ],
   "source": [
    "# Показать ТОП самых длинных полных путей к файлам\n",
    "path = os.path.abspath(input(\"Введите путь папки\"))\n",
    "array = []\n",
    "\n",
    "for folder, subfolders, files in os.walk(path):\n",
    "    for file in files:\n",
    "        array.append(os.path.join(folder, file))\n",
    "\n",
    "array.sort(key=len, reverse=True)\n",
    "\n",
    "for i in array:\n",
    "    print(\"{}\".format(i))"
   ]
  },
  {
   "cell_type": "code",
   "execution_count": 57,
   "metadata": {},
   "outputs": [
    {
     "name": "stdout",
     "output_type": "stream",
     "text": [
      "C:\\Users\\Asus\\Desktop\\Labs\\Филиппович\\Лингвистика\\27-29 Открытые системы 2005 10\n",
      "C:\\Users\\Asus\\Desktop\\Labs\\Филиппович\\Лингвистика\\30 Открытые системы 2008 2\n",
      "C:\\Users\\Asus\\Desktop\\Labs\\Филиппович\\Лингвистика\\31 Открытые системы 2008 3\n",
      "C:\\Users\\Asus\\Desktop\\Labs\\Филиппович\\Лингвистика\\6-15 Компьютерра 2005 37\n",
      "C:\\Users\\Asus\\Desktop\\Labs\\Филиппович\\Лингвистика\\1-5 Компьютерра 2005 33\n",
      "C:\\Users\\Asus\\Desktop\\Labs\\Филиппович\\Лингвистика\\16-26 МИР ПК 2008 7\n",
      "C:\\Users\\Asus\\Desktop\\Labs\\Филиппович\\науч деятельность\n",
      "C:\\Users\\Asus\\Desktop\\Labs\\Филиппович\\Лингвистика\n",
      "C:\\Users\\Asus\\Desktop\\Labs\\Филиппович\\IE\\IMPORT\n",
      "C:\\Users\\Asus\\Desktop\\Labs\\Филиппович\\IE\\DOC\n",
      "C:\\Users\\Asus\\Desktop\\Labs\\Филиппович\\IE\\MOD\n",
      "C:\\Users\\Asus\\Desktop\\Labs\\Филиппович\\IE\\PAL\n",
      "C:\\Users\\Asus\\Desktop\\Labs\\Филиппович\\IE\\PCX\n",
      "C:\\Users\\Asus\\Desktop\\Labs\\Филиппович\\IE\n"
     ]
    }
   ],
   "source": [
    "# Показать ТОП самых длинных путей к каталогам\n",
    "\n",
    "path = os.path.abspath(input(\"Введите путь папки\"))\n",
    "array = []\n",
    "\n",
    "for folder, subfolders, files in os.walk(path):\n",
    "    for subfolder in subfolders:\n",
    "        array.append(os.path.join(folder, subfolder))\n",
    "\n",
    "array.sort(key=len, reverse=True)\n",
    "\n",
    "for i in array:\n",
    "    print(\"{}\".format(i))"
   ]
  },
  {
   "cell_type": "code",
   "execution_count": 53,
   "metadata": {},
   "outputs": [
    {
     "name": "stdout",
     "output_type": "stream",
     "text": [
      "C:\\Users\\Asus\\Desktop\\Labs\\Филиппович\\IE: 32\n",
      "C:\\Users\\Asus\\Desktop\\Labs\\Филиппович\\IE\\MOD: 23\n",
      "C:\\Users\\Asus\\Desktop\\Labs\\Филиппович\\IE\\PAL: 16\n",
      "C:\\Users\\Asus\\Desktop\\Labs\\Филиппович\\IE\\DOC: 12\n",
      "C:\\Users\\Asus\\Desktop\\Labs\\Филиппович\\Лингвистика\\16-26 МИР ПК 2008 7: 11\n",
      "C:\\Users\\Asus\\Desktop\\Labs\\Филиппович\\Лингвистика\\6-15 Компьютерра 2005 37: 10\n",
      "C:\\Users\\Asus\\Desktop\\Labs\\Филиппович\\Лингвистика: 7\n",
      "C:\\Users\\Asus\\Desktop\\Labs\\Филиппович\\Лингвистика\\1-5 Компьютерра 2005 33: 5\n",
      "C:\\Users\\Asus\\Desktop\\Labs\\Филиппович\\Лингвистика\\27-29 Открытые системы 2005 10: 3\n",
      "C:\\Users\\Asus\\Desktop\\Labs\\Филиппович: 2\n",
      "C:\\Users\\Asus\\Desktop\\Labs\\Филиппович\\IE\\PCX: 1\n"
     ]
    }
   ],
   "source": [
    "# Показать ТОП каталогов, где больше всего файлов\n",
    "\n",
    "path = os.path.abspath(input(\"Введите путь папки\"))\n",
    "dict = {}\n",
    "\n",
    "for folder, subfolders, files in os.walk(path):\n",
    "    if (len(files) == 0):\n",
    "        continue\n",
    "    dict[folder] = len(files)\n",
    "\n",
    "sorted_values = sorted(dict.values(), reverse=True)\n",
    "sorted_dict = {}\n",
    "\n",
    "for i in sorted_values:\n",
    "    for k in dict.keys():\n",
    "        if dict[k] == i:\n",
    "            sorted_dict[k] = dict[k]\n",
    "            break\n",
    "\n",
    "for i in sorted_dict.items():\n",
    "    print(\"{}: {}\".format(i[0], i[1]))"
   ]
  },
  {
   "cell_type": "code",
   "execution_count": 56,
   "metadata": {},
   "outputs": [
    {
     "name": "stdout",
     "output_type": "stream",
     "text": [
      "{'C:\\\\Users\\\\Asus\\\\Desktop\\\\Labs\\\\Филиппович': 3, 'C:\\\\Users\\\\Asus\\\\Desktop\\\\Labs\\\\Филиппович\\\\IE': 5, 'C:\\\\Users\\\\Asus\\\\Desktop\\\\Labs\\\\Филиппович\\\\Лингвистика': 6}\n",
      "C:\\Users\\Asus\\Desktop\\Labs\\Филиппович\\Лингвистика: 6\n",
      "C:\\Users\\Asus\\Desktop\\Labs\\Филиппович\\IE: 5\n",
      "C:\\Users\\Asus\\Desktop\\Labs\\Филиппович: 3\n"
     ]
    }
   ],
   "source": [
    "# Показать ТОП каталогов, где больше всего подкаталогов\n",
    "\n",
    "path = os.path.abspath(input(\"Введите путь папки\"))\n",
    "dict = {}\n",
    "\n",
    "for folder, subfolders, files in os.walk(path):\n",
    "    if (len(subfolders) == 0):\n",
    "        continue\n",
    "    dict[folder] = len(subfolders)\n",
    "\n",
    "sorted_values = sorted(dict.values(), reverse=True)\n",
    "sorted_dict = {}\n",
    "\n",
    "for i in sorted_values:\n",
    "    for k in dict.keys():\n",
    "        if dict[k] == i:\n",
    "            sorted_dict[k] = dict[k]\n",
    "            break\n",
    "\n",
    "for i in sorted_dict.items():\n",
    "    print(\"{}: {}\".format(i[0], i[1]))"
   ]
  }
 ],
 "metadata": {
  "kernelspec": {
   "display_name": "Python 3.8.0 64-bit",
   "language": "python",
   "name": "python3"
  },
  "language_info": {
   "codemirror_mode": {
    "name": "ipython",
    "version": 3
   },
   "file_extension": ".py",
   "mimetype": "text/x-python",
   "name": "python",
   "nbconvert_exporter": "python",
   "pygments_lexer": "ipython3",
   "version": "3.8.0 (tags/v3.8.0:fa919fd, Oct 14 2019, 19:37:50) [MSC v.1916 64 bit (AMD64)]"
  },
  "orig_nbformat": 4,
  "vscode": {
   "interpreter": {
    "hash": "25d775a05cd5ef828ac55111e2d25fe7a8cdee116904ae28746ef0f2500c8ec5"
   }
  }
 },
 "nbformat": 4,
 "nbformat_minor": 2
}
