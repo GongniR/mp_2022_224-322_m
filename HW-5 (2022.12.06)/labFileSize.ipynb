{
 "cells": [
  {
   "attachments": {},
   "cell_type": "markdown",
   "metadata": {},
   "source": [
    "# HW:\n",
    "- Создать функцию pretty_size(...), с помощью которой можно будет построить таблицу с данными\n",
    "(название файла, размер файла в байтах, размер файла автоматически(т.е. в байтах, КБ, МБ, ТБ в зависимости от размера файла), и т.п.)\n"
   ]
  },
  {
   "cell_type": "code",
   "execution_count": 1,
   "metadata": {},
   "outputs": [],
   "source": [
    "import sys\n",
    "import os "
   ]
  },
  {
   "cell_type": "code",
   "execution_count": 8,
   "metadata": {},
   "outputs": [],
   "source": [
    "path = \"C:\\\\Users\\\\gongn\\\\OneDrive\\\\Изображения\""
   ]
  },
  {
   "cell_type": "code",
   "execution_count": 20,
   "metadata": {},
   "outputs": [],
   "source": [
    "def convert_unit(size_in_bytes: int)->str:\n",
    "    unit = ''\n",
    "    if size_in_bytes / 1024 > 1:\n",
    "        if size_in_bytes/ 1024**2 > 1:\n",
    "            if size_in_bytes/ 1024**3 > 1:\n",
    "                unit = str(round(size_in_bytes/1024**3,2)) + ' GB'\n",
    "            else:\n",
    "                unit = str(round(size_in_bytes/1024**2,2)) + ' MB'\n",
    "        else:\n",
    "            unit = str(round(size_in_bytes/1024,2)) + ' KB'\n",
    "    else: \n",
    "          unit = str(size_in_bytes)   + ' Bytes' \n",
    "   \n",
    "    return unit"
   ]
  },
  {
   "cell_type": "code",
   "execution_count": 42,
   "metadata": {},
   "outputs": [],
   "source": [
    "def pretty_size(path: str) -> None:\n",
    "    files = os.listdir(path) # получить файлы по пути \n",
    "    files_info =[]\n",
    "    max_len_name = -1\n",
    "    max_len_byte = -1\n",
    "\n",
    "    for file in  files:\n",
    "        if len(file)>max_len_name:\n",
    "            max_len_name=len(file)\n",
    "        size_file = os.path.getsize(os.path.join(path, file))\n",
    "        if len(str(size_file))> max_len_byte:\n",
    "            max_len_byte=len(str(size_file))\n",
    "\n",
    "        files_info.append([file, size_file, convert_unit(size_file)])\n",
    "    \n",
    "    print(path + ' ...')\n",
    "    for file_info in files_info:\n",
    "        print(file_info[0]+ (' ' * (max_len_name - len(file_info[0])  )) +' |'+ (' ' * ( max_len_byte - len(str(file_info[1])) ))+ str(file_info[1])+ ' | ' + file_info[2])\n",
    "   "
   ]
  },
  {
   "cell_type": "code",
   "execution_count": 43,
   "metadata": {},
   "outputs": [
    {
     "name": "stdout",
     "output_type": "stream",
     "text": [
      "C:\\Users\\gongn\\OneDrive\\Изображения ...\n",
      "anime-girl-night-moon-digital-art-ar-2048x1152.jpg     | 623554 | 608.94 KB\n",
      "IOIXwKJjTb4.jpg                                        | 307335 | 300.13 KB\n",
      "kermit-muppets.gif                                     | 773491 | 755.36 KB\n",
      "ML_ASPECTS_INTERSECTION.csv                            | 150684 | 147.15 KB\n",
      "power-lines-moon-anime-quite-night-4k-pb-2560x1440.jpg | 941737 | 919.67 KB\n",
      "Без названия.jpg                                       |  11044 | 10.79 KB\n",
      "тест.csv                                               |   2846 | 2.78 KB\n",
      "ФИ2190201_ФИ2190202_физика_9класс.pdf                  |4769731 | 4.55 MB\n"
     ]
    }
   ],
   "source": [
    "pretty_size(path)"
   ]
  }
 ],
 "metadata": {
  "kernelspec": {
   "display_name": "Python 3",
   "language": "python",
   "name": "python3"
  },
  "language_info": {
   "codemirror_mode": {
    "name": "ipython",
    "version": 3
   },
   "file_extension": ".py",
   "mimetype": "text/x-python",
   "name": "python",
   "nbconvert_exporter": "python",
   "pygments_lexer": "ipython3",
   "version": "3.10.7 (tags/v3.10.7:6cc6b13, Sep  5 2022, 14:08:36) [MSC v.1933 64 bit (AMD64)]"
  },
  "orig_nbformat": 4,
  "vscode": {
   "interpreter": {
    "hash": "a65de8c931b388a9bc6e0bc465c0c6fe0a811da7d30de2aaa2b96780d2f2ccdc"
   }
  }
 },
 "nbformat": 4,
 "nbformat_minor": 2
}
