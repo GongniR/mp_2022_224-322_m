{
 "cells": [
  {
   "attachments": {},
   "cell_type": "markdown",
   "metadata": {},
   "source": [
    "# HW:\n",
    "- создать примеры работы с модулем fileinput"
   ]
  },
  {
   "cell_type": "code",
   "execution_count": 1,
   "metadata": {},
   "outputs": [],
   "source": [
    "import fileinput"
   ]
  },
  {
   "cell_type": "code",
   "execution_count": 3,
   "metadata": {},
   "outputs": [
    {
     "name": "stdout",
     "output_type": "stream",
     "text": [
      "Processing Message from fileinput.input() *****fsgdg.habrdgh\n",
      "*****\n",
      "Processing Message from fileinput.input() *****decghds\n",
      "*****\n",
      "Processing Message from fileinput.input() *****habrxvzb\n",
      "*****\n",
      "Processing Message from fileinput.input() *****df\n",
      "*****\n",
      "Processing Message from fileinput.input() *****game_converterg\n",
      "*****\n",
      "Processing Message from fileinput.input() *****\n",
      "*****\n",
      "Processing Message from fileinput.input() *****defhe\n",
      "*****\n",
      "Processing Message from fileinput.input() *****game_converterge\n",
      "*****\n",
      "Processing Message from fileinput.input() *****entries\n",
      "*****\n",
      "Processing Message from fileinput.input() *****fgfdfbxc*****\n",
      "Processing Message from fileinput.input() *****1 egg\n",
      "*****\n",
      "Processing Message from fileinput.input() *****2 egg\n",
      "*****\n",
      "Processing Message from fileinput.input() *****3 egg\n",
      "*****\n",
      "Processing Message from fileinput.input() *****4 egg\n",
      "*****\n",
      "Processing Message from fileinput.input() *****5 egg\n",
      "*****\n",
      "Processing Message from fileinput.input() *****Final*****\n",
      "Done\n"
     ]
    }
   ],
   "source": [
    "# Считываем последовательно строки из файлов\n",
    "with fileinput.input(files=('labFileinput_test/spam.txt', 'labFileinput_test/eggs.txt')) as f:\n",
    "    for fileinput_line in f: \n",
    "        print(f'Processing Message from fileinput.input() *****{fileinput_line}*****') \n",
    "    print(\"Done\")"
   ]
  },
  {
   "cell_type": "code",
   "execution_count": 4,
   "metadata": {},
   "outputs": [
    {
     "name": "stdout",
     "output_type": "stream",
     "text": [
      "Processing Message from fileinput.input() *****1 egg\n",
      "*****\n",
      "Processing Message from fileinput.input() *****2 egg\n",
      "*****\n",
      "Processing Message from fileinput.input() *****3 egg\n",
      "*****\n",
      "Processing Message from fileinput.input() *****4 egg\n",
      "*****\n",
      "Processing Message from fileinput.input() *****5 egg\n",
      "*****\n",
      "Done\n"
     ]
    }
   ],
   "source": [
    "# Считываем последовательно строки из файлов, пока не нашли строку Final\n",
    "with fileinput.input(files=('labFileinput_test/eggs.txt', 'labFileinput_test/spam.txt')) as f:\n",
    "    for fileinput_line in f: \n",
    "        if 'Final' == fileinput_line.rstrip(): \n",
    "            break \n",
    "        print(f'Processing Message from fileinput.input() *****{fileinput_line}*****') \n",
    "    print(\"Done\")"
   ]
  },
  {
   "cell_type": "code",
   "execution_count": 16,
   "metadata": {},
   "outputs": [
    {
     "name": "stdout",
     "output_type": "stream",
     "text": [
      "-1\n",
      "4\n",
      "4\n",
      "4\n",
      "4\n",
      "4\n",
      "4\n",
      "4\n",
      "4\n",
      "4\n",
      "4\n",
      "4\n",
      "4\n",
      "4\n",
      "4\n",
      "4\n",
      "4\n",
      "-1\n"
     ]
    }
   ],
   "source": [
    "# fileinput.fileno() - Возвращает целое число “дескриптор файла” для текущего файла. Когда ни один файл не открыт (перед первой строкой и между файлами), возвращается значение -1.\n",
    "with fileinput.input(files=('labFileinput_test/eggs.txt', 'labFileinput_test/spam.txt')) as f:\n",
    "    print(fileinput.fileno())\n",
    "    for fileinput_line in f:\n",
    "        print(fileinput.fileno())\n",
    "    print(fileinput.fileno())\n"
   ]
  },
  {
   "cell_type": "code",
   "execution_count": 18,
   "metadata": {},
   "outputs": [
    {
     "name": "stdout",
     "output_type": "stream",
     "text": [
      "0\n",
      "1\n",
      "2\n",
      "3\n",
      "4\n",
      "5\n",
      "6\n",
      "7\n",
      "8\n",
      "9\n",
      "10\n",
      "11\n",
      "12\n",
      "13\n",
      "14\n",
      "15\n",
      "16\n",
      "16\n"
     ]
    }
   ],
   "source": [
    "# fileinput.lineno() - Возвращает суммарный номер строки, которая только что была прочитана. До того, как первая строка была прочитана, возвращает 0. После того, как последняя строка последнего файла была прочитана, возвращает номер строки этой строки.\n",
    "with fileinput.input(files=('labFileinput_test/eggs.txt', 'labFileinput_test/spam.txt')) as f:\n",
    "    print(fileinput.lineno())\n",
    "    for fileinput_line in f:\n",
    "        print(fileinput.lineno())\n",
    "    print(fileinput.lineno())"
   ]
  },
  {
   "cell_type": "code",
   "execution_count": 20,
   "metadata": {},
   "outputs": [
    {
     "name": "stdout",
     "output_type": "stream",
     "text": [
      "0\n",
      "False\n",
      "1\n",
      "True\n",
      "2\n",
      "False\n",
      "3\n",
      "False\n",
      "4\n",
      "False\n",
      "5\n",
      "False\n",
      "6\n",
      "False\n",
      "7\n",
      "True\n",
      "8\n",
      "False\n",
      "9\n",
      "False\n",
      "10\n",
      "False\n",
      "11\n",
      "False\n",
      "12\n",
      "False\n",
      "13\n",
      "False\n",
      "14\n",
      "False\n",
      "15\n",
      "False\n",
      "16\n",
      "False\n",
      "16\n",
      "False\n"
     ]
    }
   ],
   "source": [
    "# fileinput.isfirstline() - Верните значение True, если только что прочитанная строка является первой строкой его файла, в противном случае верните значение False.\n",
    "with fileinput.input(files=('labFileinput_test/eggs.txt', 'labFileinput_test/spam.txt')) as f:\n",
    "    print(fileinput.lineno())\n",
    "    print(fileinput.isfirstline())\n",
    "    for fileinput_line in f:\n",
    "        print(fileinput.lineno())\n",
    "        print(fileinput.isfirstline())\n",
    "    print(fileinput.lineno())\n",
    "    print(fileinput.isfirstline())"
   ]
  },
  {
   "cell_type": "code",
   "execution_count": 21,
   "metadata": {},
   "outputs": [
    {
     "name": "stdout",
     "output_type": "stream",
     "text": [
      "Processing Message from fileinput.input() *****1 egg\n",
      "*****\n",
      "Processing Message from fileinput.input() *****2 egg\n",
      "*****\n",
      "Processing Message from fileinput.input() *****fsgdg.habrdgh\n",
      "*****\n",
      "Processing Message from fileinput.input() *****decghds\n",
      "*****\n",
      "Processing Message from fileinput.input() *****habrxvzb\n",
      "*****\n",
      "Processing Message from fileinput.input() *****df\n",
      "*****\n",
      "Processing Message from fileinput.input() *****game_converterg\n",
      "*****\n",
      "Processing Message from fileinput.input() *****\n",
      "*****\n",
      "Processing Message from fileinput.input() *****defhe\n",
      "*****\n",
      "Processing Message from fileinput.input() *****game_converterge\n",
      "*****\n",
      "Processing Message from fileinput.input() *****entries\n",
      "*****\n",
      "Processing Message from fileinput.input() *****fgfdfbxc*****\n",
      "Done\n"
     ]
    }
   ],
   "source": [
    "# fileinput.nextfile() - Закройте текущий файл, чтобы при следующей итерации была прочитана первая строка из следующего файла (если таковой имеется); строки, не прочитанные из файла, не будут учитываться при суммарном количестве строк. Имя файла не изменяется до тех пор, пока не будет прочитана первая строка следующего файла. До того, как первая строка будет прочитана, эта функция не имеет никакого эффекта; ее нельзя использовать для пропуска первого файла. После того, как последняя строка последнего файла была прочитана, эта функция не имеет никакого эффекта.\n",
    "with fileinput.input(files=('labFileinput_test/eggs.txt', 'labFileinput_test/spam.txt')) as f:\n",
    "    for fileinput_line in f: \n",
    "        if '2' in fileinput_line:\n",
    "            fileinput.nextfile()\n",
    "        print(f'Processing Message from fileinput.input() *****{fileinput_line}*****') \n",
    "    print(\"Done\")"
   ]
  }
 ],
 "metadata": {
  "kernelspec": {
   "display_name": "Python 3",
   "language": "python",
   "name": "python3"
  },
  "language_info": {
   "codemirror_mode": {
    "name": "ipython",
    "version": 3
   },
   "file_extension": ".py",
   "mimetype": "text/x-python",
   "name": "python",
   "nbconvert_exporter": "python",
   "pygments_lexer": "ipython3",
   "version": "3.10.7"
  },
  "orig_nbformat": 4,
  "vscode": {
   "interpreter": {
    "hash": "943c6ee01c10f5cc3c57caccbb7ab83aef6e579cc7a0aa252d51d555fb6a6bce"
   }
  }
 },
 "nbformat": 4,
 "nbformat_minor": 2
}
