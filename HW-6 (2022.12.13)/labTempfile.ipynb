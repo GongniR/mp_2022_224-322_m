{
 "cells": [
  {
   "attachments": {},
   "cell_type": "markdown",
   "metadata": {},
   "source": [
    "# HW:\n",
    "- Создать временный файл, в который добавить названия случайных 10 городов из файла cities.csv, а затем из этого файла создать другой файл, но уже с этими отсортированными в обратном алфавитном порядке городами. Результат вывести в консоль для проверки.\n",
    "- Создать временный каталог, в котором создать N текстовых файлов, имя файла должно содержать название города из файла cities.csv  (Например, \"Москва.txt\", \"Тула.txt\") , проверить результат своей работы, подсчитать количество созданных файлов и распечатать в консоль для проверки."
   ]
  },
  {
   "cell_type": "code",
   "execution_count": 1,
   "metadata": {},
   "outputs": [],
   "source": [
    "# tempfile - Временные файлы и каталоги\n",
    "import tempfile"
   ]
  },
  {
   "cell_type": "code",
   "execution_count": 2,
   "metadata": {},
   "outputs": [
    {
     "data": {
      "text/plain": [
       "'C:\\\\Users\\\\gongn\\\\AppData\\\\Local\\\\Temp'"
      ]
     },
     "execution_count": 2,
     "metadata": {},
     "output_type": "execute_result"
    }
   ],
   "source": [
    "tempfile.gettempdir()"
   ]
  },
  {
   "cell_type": "code",
   "execution_count": 3,
   "metadata": {},
   "outputs": [
    {
     "name": "stdout",
     "output_type": "stream",
     "text": [
      "rb+\n",
      "C:\\Users\\gongn\\AppData\\Local\\Temp\\tmp4cj29i8e\n"
     ]
    }
   ],
   "source": [
    "with tempfile.TemporaryFile() as f:\n",
    "    print(f.mode)\n",
    "    print(f.name)"
   ]
  },
  {
   "cell_type": "code",
   "execution_count": 4,
   "metadata": {},
   "outputs": [
    {
     "name": "stdout",
     "output_type": "stream",
     "text": [
      "C:\\Users\\gongn\\AppData\\Local\\Temp\\tmpqv026i7q\n"
     ]
    }
   ],
   "source": [
    "with tempfile.TemporaryDirectory() as tempPath:\n",
    "    print(tempPath)"
   ]
  },
  {
   "cell_type": "code",
   "execution_count": 6,
   "metadata": {},
   "outputs": [
    {
     "name": "stdout",
     "output_type": "stream",
     "text": [
      "C:\\Users\\gongn\\AppData\\Local\\Temp\\___o0ec4bzozzz\n"
     ]
    }
   ],
   "source": [
    "with tempfile.TemporaryDirectory(prefix='___', suffix='zzz') as tempPath:\n",
    "    print(tempPath)"
   ]
  },
  {
   "cell_type": "code",
   "execution_count": 7,
   "metadata": {},
   "outputs": [
    {
     "name": "stdout",
     "output_type": "stream",
     "text": [
      "Файл: C:\\Users\\gongn\\AppData\\Local\\Temp\\tmp2xgggbky\n",
      "{'Город': 'Ковылкино', 'Регион': 'Мордовия', 'Федеральный округ': 'Приволжский', 'lat': '54,039201', 'lng': '43,919056'}\n",
      "{'Город': 'Сунжа', 'Регион': 'Ингушетия', 'Федеральный округ': 'Северо-Кавказский', 'lat': '43,320353', 'lng': '45,047682'}\n",
      "{'Город': 'Ряжск', 'Регион': 'Рязанская область', 'Федеральный округ': 'Центральный', 'lat': '53,708949', 'lng': '40,062894'}\n",
      "{'Город': 'Сунжа', 'Регион': 'Ингушетия', 'Федеральный округ': 'Северо-Кавказский', 'lat': '43,320353', 'lng': '45,047682'}\n",
      "{'Город': 'Заволжск', 'Регион': 'Ивановская область', 'Федеральный округ': 'Центральный', 'lat': '57,491737', 'lng': '42,137491'}\n",
      "{'Город': 'Вилючинск', 'Регион': 'Камчатский край', 'Федеральный округ': 'Дальневосточный', 'lat': '52,906857', 'lng': '158,418296'}\n",
      "{'Город': 'Белореченск', 'Регион': 'Краснодарский край', 'Федеральный округ': 'Южный', 'lat': '44,761141', 'lng': '39,87114'}\n",
      "{'Город': 'Шагонар', 'Регион': 'Тыва', 'Федеральный округ': 'Сибирский', 'lat': '51,534705', 'lng': '92,919972'}\n",
      "{'Город': 'Корсаков', 'Регион': 'Сахалинская область', 'Федеральный округ': 'Дальневосточный', 'lat': '46,63498', 'lng': '142,78257'}\n",
      "{'Город': 'Оленегорск', 'Регион': 'Мурманская область', 'Федеральный округ': 'Северо-Западный', 'lat': '68,142161', 'lng': '33,26696'}\n",
      "Файл: C:\\Users\\gongn\\AppData\\Local\\Temp\\tmpcoh1cfhi\n",
      "{'Город': 'Шагонар', 'Регион': 'Тыва', 'Федеральный округ': 'Сибирский', 'lat': '51,534705', 'lng': '92,919972'}\n",
      "{'Город': 'Сунжа', 'Регион': 'Ингушетия', 'Федеральный округ': 'Северо-Кавказский', 'lat': '43,320353', 'lng': '45,047682'}\n",
      "{'Город': 'Сунжа', 'Регион': 'Ингушетия', 'Федеральный округ': 'Северо-Кавказский', 'lat': '43,320353', 'lng': '45,047682'}\n",
      "{'Город': 'Ряжск', 'Регион': 'Рязанская область', 'Федеральный округ': 'Центральный', 'lat': '53,708949', 'lng': '40,062894'}\n",
      "{'Город': 'Оленегорск', 'Регион': 'Мурманская область', 'Федеральный округ': 'Северо-Западный', 'lat': '68,142161', 'lng': '33,26696'}\n",
      "{'Город': 'Корсаков', 'Регион': 'Сахалинская область', 'Федеральный округ': 'Дальневосточный', 'lat': '46,63498', 'lng': '142,78257'}\n",
      "{'Город': 'Ковылкино', 'Регион': 'Мордовия', 'Федеральный округ': 'Приволжский', 'lat': '54,039201', 'lng': '43,919056'}\n",
      "{'Город': 'Заволжск', 'Регион': 'Ивановская область', 'Федеральный округ': 'Центральный', 'lat': '57,491737', 'lng': '42,137491'}\n",
      "{'Город': 'Вилючинск', 'Регион': 'Камчатский край', 'Федеральный округ': 'Дальневосточный', 'lat': '52,906857', 'lng': '158,418296'}\n",
      "{'Город': 'Белореченск', 'Регион': 'Краснодарский край', 'Федеральный округ': 'Южный', 'lat': '44,761141', 'lng': '39,87114'}\n"
     ]
    }
   ],
   "source": [
    "import tempfile\n",
    "import csv, random\n",
    "\n",
    "count_of_cities = 10\n",
    "# Выборка из 10 случайных городов\n",
    "cities = []\n",
    "with open(\"cities.csv\") as f:\n",
    "    reader = csv.DictReader(f, delimiter=';') \n",
    "    full = list(reader)\n",
    "    for i in range(count_of_cities):\n",
    "        cities.append(random.choice(full))\n",
    "\n",
    "\n",
    "# tempfile сохраняется в папке TEMP - в конце удалить в ручную!!!\n",
    "# Сохранение в файл\n",
    "with tempfile.NamedTemporaryFile(mode='w', delete=False) as csvfile:\n",
    "    writer = csv.DictWriter(csvfile, fieldnames=['Город', 'Регион', 'Федеральный округ', 'lat', 'lng'])\n",
    "    writer.writeheader()\n",
    "    print(\"Файл: \" + csvfile.name)\n",
    "    for i in range(len(cities)):\n",
    "        writer.writerow(cities[i])\n",
    "        print(cities[i])\n",
    "\n",
    "# Чтение из файла\n",
    "full = []\n",
    "with open(csvfile.name) as csvfile:\n",
    "    reader = csv.DictReader(csvfile)\n",
    "    full = list(reader)\n",
    "\n",
    "# Сортировка в обратном алфавитном порядке\n",
    "sorted_values = []\n",
    "for i in range(len(full)):\n",
    "    sorted_values.append(list(full[i].values())[0])\n",
    "\n",
    "sorted_values.sort(reverse=True)\n",
    "sorted = []\n",
    "\n",
    "for i in sorted_values:\n",
    "    for j in full:\n",
    "        if j[list(j.keys())[0]] == i:\n",
    "            sorted.append(j)\n",
    "            break\n",
    "\n",
    "# Сохранение нового файла\n",
    "with tempfile.NamedTemporaryFile(mode='w', delete=False) as csvfile:\n",
    "    writer = csv.DictWriter(csvfile, fieldnames=['Город', 'Регион', 'Федеральный округ', 'lat', 'lng'])\n",
    "    writer.writeheader()\n",
    "    print(\"Файл: \" + csvfile.name)\n",
    "    for i in range(len(sorted)):\n",
    "        writer.writerow(sorted[i])\n",
    "        print(sorted[i])"
   ]
  },
  {
   "cell_type": "code",
   "execution_count": 10,
   "metadata": {},
   "outputs": [
    {
     "name": "stdout",
     "output_type": "stream",
     "text": [
      "C:\\Users\\gongn\\AppData\\Local\\Temp\\tmp1f1zex27\\Новосокольники.txt\n",
      "C:\\Users\\gongn\\AppData\\Local\\Temp\\tmp1f1zex27\\СтарыйОскол.txt\n",
      "C:\\Users\\gongn\\AppData\\Local\\Temp\\tmp1f1zex27\\Гудермес.txt\n",
      "C:\\Users\\gongn\\AppData\\Local\\Temp\\tmp1f1zex27\\Батайск.txt\n",
      "C:\\Users\\gongn\\AppData\\Local\\Temp\\tmp1f1zex27\\СтараяРусса.txt\n",
      "C:\\Users\\gongn\\AppData\\Local\\Temp\\tmp1f1zex27\\Мирный.txt\n",
      "C:\\Users\\gongn\\AppData\\Local\\Temp\\tmp1f1zex27\\Горбатов.txt\n",
      "C:\\Users\\gongn\\AppData\\Local\\Temp\\tmp1f1zex27\\Кудымкар.txt\n",
      "C:\\Users\\gongn\\AppData\\Local\\Temp\\tmp1f1zex27\\Чусовой.txt\n",
      "C:\\Users\\gongn\\AppData\\Local\\Temp\\tmp1f1zex27\\Орск.txt\n",
      "Кол-во файлов: 10\n",
      "['Батайск.txt', 'Горбатов.txt', 'Гудермес.txt', 'Кудымкар.txt', 'Мирный.txt', 'Новосокольники.txt', 'Орск.txt', 'СтараяРусса.txt', 'СтарыйОскол.txt', 'Чусовой.txt']\n"
     ]
    }
   ],
   "source": [
    "import os\n",
    "# N = int(input(\"Введите кол-во файлов\"))\n",
    "N=10\n",
    "temp_dir = tempfile.TemporaryDirectory()\n",
    "\n",
    "# Выборка из 10 случайных городов\n",
    "cities = []\n",
    "with open(\"E:\\GitHub\\mp_2022_224-322_python\\HW-6 (2022.12.13)\\cities.csv\") as f:\n",
    "    reader = csv.DictReader(f, delimiter=';') \n",
    "    full = list(reader)\n",
    "    for i in range(N):\n",
    "        cities.append(random.choice(full))\n",
    "        path = temp_dir.name + \"\\\\\" + list(cities[i].values())[0] + \".txt\"\n",
    "        print(path)\n",
    "        text_file = open(path, \"w\")\n",
    "        text_file.write(str(cities[i]))\n",
    "        text_file.close()\n",
    "\n",
    "# Проверка\n",
    "_, _, files = next(os.walk(temp_dir.name))\n",
    "print(\"Кол-во файлов: \" + str(len(files)))\n",
    "print(files)"
   ]
  }
 ],
 "metadata": {
  "kernelspec": {
   "display_name": "Python 3",
   "language": "python",
   "name": "python3"
  },
  "language_info": {
   "codemirror_mode": {
    "name": "ipython",
    "version": 3
   },
   "file_extension": ".py",
   "mimetype": "text/x-python",
   "name": "python",
   "nbconvert_exporter": "python",
   "pygments_lexer": "ipython3",
   "version": "3.10.7 (tags/v3.10.7:6cc6b13, Sep  5 2022, 14:08:36) [MSC v.1933 64 bit (AMD64)]"
  },
  "orig_nbformat": 4,
  "vscode": {
   "interpreter": {
    "hash": "a65de8c931b388a9bc6e0bc465c0c6fe0a811da7d30de2aaa2b96780d2f2ccdc"
   }
  }
 },
 "nbformat": 4,
 "nbformat_minor": 2
}
