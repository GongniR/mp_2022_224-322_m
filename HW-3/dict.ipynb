{
 "cells": [
  {
   "cell_type": "markdown",
   "metadata": {},
   "source": [
    "1. Создание словаря"
   ]
  },
  {
   "cell_type": "code",
   "execution_count": 1,
   "metadata": {},
   "outputs": [
    {
     "name": "stdout",
     "output_type": "stream",
     "text": [
      "{'A': 1, 'B': 2}\n",
      "{'short': 'A', 'long': 'B'}\n",
      "{'a': None, 'b': None}\n",
      "{0: 0, 1: 1, 2: 2}\n"
     ]
    }
   ],
   "source": [
    "d = {'A': 1, 'B': 2}\n",
    "print(d)\n",
    "\n",
    "d = dict(short='A', long='B')\n",
    "print(d)\n",
    "\n",
    "d = dict.fromkeys(['a', 'b'])\n",
    "print(d)\n",
    "\n",
    "d = {a: a for a in range(3)}\n",
    "print(d)"
   ]
  },
  {
   "cell_type": "markdown",
   "metadata": {},
   "source": [
    "2. Доступ к элементами"
   ]
  },
  {
   "cell_type": "code",
   "execution_count": 3,
   "metadata": {},
   "outputs": [
    {
     "name": "stdout",
     "output_type": "stream",
     "text": [
      "Bob\n"
     ]
    }
   ],
   "source": [
    "dict_sample = {\n",
    "  \"Name\": \"Bob\", \n",
    "  \"Food\": \"Burger\", \n",
    "  \"year\": 2012 \n",
    "} \n",
    "x = dict_sample[\"Name\"] \n",
    "print(x)"
   ]
  },
  {
   "cell_type": "markdown",
   "metadata": {},
   "source": [
    "3. Добавление элементов"
   ]
  },
  {
   "cell_type": "code",
   "execution_count": 6,
   "metadata": {},
   "outputs": [
    {
     "name": "stdout",
     "output_type": "stream",
     "text": [
      "{'Name': 'Bob', 'Food': 'Burger', 'year': 2012, 'Wife': 'SuperGirl'}\n"
     ]
    }
   ],
   "source": [
    "dict_sample = {\n",
    "  \"Name\": \"Bob\", \n",
    "  \"Food\": \"Burger\", \n",
    "  \"year\": 2012 \n",
    "} \n",
    "dict_sample[\"Wife\"] = \"SuperGirl\" \n",
    "print(dict_sample)"
   ]
  },
  {
   "cell_type": "markdown",
   "metadata": {},
   "source": [
    "4. Обновление элементов"
   ]
  },
  {
   "cell_type": "code",
   "execution_count": 7,
   "metadata": {},
   "outputs": [
    {
     "name": "stdout",
     "output_type": "stream",
     "text": [
      "{'Name': 'Bob', 'Food': 'Burger', 'year': 2014}\n"
     ]
    }
   ],
   "source": [
    "dict_sample = {\n",
    "  \"Name\": \"Bob\", \n",
    "  \"Food\": \"Burger\", \n",
    "  \"year\": 2012 \n",
    "} \n",
    "\n",
    "dict_sample[\"year\"] = 2014 \n",
    "\n",
    "print(dict_sample)"
   ]
  },
  {
   "cell_type": "markdown",
   "metadata": {},
   "source": [
    "5. Удаление элементов"
   ]
  },
  {
   "cell_type": "code",
   "execution_count": 8,
   "metadata": {},
   "outputs": [
    {
     "name": "stdout",
     "output_type": "stream",
     "text": [
      "{'Name': 'Bob', 'Food': 'Burger'}\n",
      "{'Name': 'Bob', 'Food': 'Burger'}\n",
      "{}\n"
     ]
    }
   ],
   "source": [
    "dict_sample = {\n",
    "  \"Name\": \"Bob\", \n",
    "  \"Food\": \"Burger\", \n",
    "  \"year\": 2012 \n",
    "}\n",
    "del dict_sample[\"year\"] \n",
    "print(dict_sample)\n",
    "\n",
    "dict_sample = {\n",
    "  \"Name\": \"Bob\", \n",
    "  \"Food\": \"Burger\", \n",
    "  \"year\": 2012 \n",
    "} \n",
    "dict_sample.pop(\"year\") \n",
    "print(dict_sample)\n",
    "\n",
    "dict_sample = {\n",
    "  \"Name\": \"Bob\", \n",
    "  \"Food\": \"Burger\", \n",
    "  \"year\": 2012 \n",
    "} \n",
    "dict_sample.clear() \n",
    "print(dict_sample)"
   ]
  },
  {
   "cell_type": "markdown",
   "metadata": {},
   "source": [
    "6. Длина словаря"
   ]
  },
  {
   "cell_type": "code",
   "execution_count": 9,
   "metadata": {},
   "outputs": [
    {
     "name": "stdout",
     "output_type": "stream",
     "text": [
      "3\n"
     ]
    }
   ],
   "source": [
    "dict_sample = {\n",
    "  \"Name\": \"Bob\", \n",
    "  \"Food\": \"Burger\", \n",
    "  \"year\": 2012 \n",
    "} \n",
    "print(len(dict_sample))"
   ]
  },
  {
   "cell_type": "markdown",
   "metadata": {},
   "source": [
    "7. Копирование словаря"
   ]
  },
  {
   "cell_type": "code",
   "execution_count": 10,
   "metadata": {},
   "outputs": [
    {
     "name": "stdout",
     "output_type": "stream",
     "text": [
      "{'Name': 'Bob', 'Food': 'Burger', 'year': 2012}\n"
     ]
    }
   ],
   "source": [
    "dict_sample = {\n",
    "  \"Name\": \"Bob\", \n",
    "  \"Food\": \"Burger\", \n",
    "  \"year\": 2012 \n",
    "} \n",
    "x = dict_sample.copy() \n",
    "\n",
    "print(x)"
   ]
  },
  {
   "cell_type": "markdown",
   "metadata": {},
   "source": [
    "8. Объекты словаря"
   ]
  },
  {
   "cell_type": "code",
   "execution_count": 11,
   "metadata": {},
   "outputs": [
    {
     "name": "stdout",
     "output_type": "stream",
     "text": [
      "Name Bob\n",
      "Food Burger\n",
      "year 2012\n",
      "dict_items([('Name', 'Bob'), ('Food', 'Burger'), ('year', 2012)])\n"
     ]
    }
   ],
   "source": [
    "dict_sample = {\n",
    "  \"Name\": \"Bob\", \n",
    "  \"Food\": \"Burger\", \n",
    "  \"year\": 2012 \n",
    "} \n",
    "\n",
    "for k, v in dict_sample.items(): \n",
    "    print(k, v)\n",
    "\n",
    "dict_sample = {\n",
    "  \"Name\": \"Bob\", \n",
    "  \"Food\": \"Burger\", \n",
    "  \"year\": 2012 \n",
    "} \n",
    "\n",
    "x = dict_sample.items() \n",
    "\n",
    "print(x) "
   ]
  },
  {
   "cell_type": "markdown",
   "metadata": {},
   "source": [
    "9. Получить значение элемента с конкретным ключом"
   ]
  },
  {
   "cell_type": "code",
   "execution_count": 14,
   "metadata": {},
   "outputs": [
    {
     "name": "stdout",
     "output_type": "stream",
     "text": [
      "Burger\n"
     ]
    }
   ],
   "source": [
    "dict_sample = {\n",
    "  \"Name\": \"Bob\", \n",
    "  \"Food\": \"Burger\", \n",
    "  \"year\": 2012 \n",
    "} \n",
    "x = dict_sample.setdefault(\"Food\", \"Pizza\") \n",
    "print(x)"
   ]
  }
 ],
 "metadata": {
  "kernelspec": {
   "display_name": "Python 3.10.7 64-bit",
   "language": "python",
   "name": "python3"
  },
  "language_info": {
   "codemirror_mode": {
    "name": "ipython",
    "version": 3
   },
   "file_extension": ".py",
   "mimetype": "text/x-python",
   "name": "python",
   "nbconvert_exporter": "python",
   "pygments_lexer": "ipython3",
   "version": "3.10.7"
  },
  "orig_nbformat": 4,
  "vscode": {
   "interpreter": {
    "hash": "a65de8c931b388a9bc6e0bc465c0c6fe0a811da7d30de2aaa2b96780d2f2ccdc"
   }
  }
 },
 "nbformat": 4,
 "nbformat_minor": 2
}
