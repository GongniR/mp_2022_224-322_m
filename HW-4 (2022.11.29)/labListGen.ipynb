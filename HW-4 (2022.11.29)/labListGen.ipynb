{
 "cells": [
  {
   "attachments": {},
   "cell_type": "markdown",
   "metadata": {},
   "source": [
    "# HW\n",
    "- из строки\n",
    "  - Вернуть список слов\n",
    "  - Вернуть список слов и рядом с каждым словом его длину в [ ]\n",
    "  - Вернуть список слов и рядом с каждым словом его порядковый номер в ( ) в предложении\n",
    "  - В каждом слове поменять регистр символов на противоположный\n",
    "  - В каждом слове поменять буквы местами на противоположный\n",
    "  - В каждом слове поменять буквы местами случайным образом\n",
    "  - В каждом слове первую и последнюю букву заменить на '_'\n",
    "  - В каждом слове заменить каждую букву на '_'\n",
    "  - В каждом слове заменить каждую букву на '_' если длина слова меньше 5 символов\n",
    "  - Каждую последнюю букву в слове с большой буквы\n",
    "  - Каждое второе слово написать большими буквами, а остальные слова маленькими\n",
    " \n",
    "  - Заменить все гласные буквы на '_'\n",
    "  - Поменять слова местами случайным образом\n",
    "  - Сформировать список слов отсортированных по количеству букв в каждом слове\n",
    "  - Сформировать список уникальных букв\n",
    "  - Сформировать список уникальных букв и их количество, (а может словарь)\n",
    "  - ...\n",
    "- придумать свои примеры по генерации списков"
   ]
  },
  {
   "cell_type": "code",
   "execution_count": 1,
   "metadata": {},
   "outputs": [],
   "source": [
    "import math \n"
   ]
  },
  {
   "cell_type": "code",
   "execution_count": 2,
   "metadata": {},
   "outputs": [],
   "source": [
    "string_test = 'In your head, in your head, they are fighting'"
   ]
  },
  {
   "cell_type": "code",
   "execution_count": 7,
   "metadata": {},
   "outputs": [
    {
     "data": {
      "text/plain": [
       "['In', 'your', 'head,', 'in', 'your', 'head,', 'they', 'are', 'fighting']"
      ]
     },
     "execution_count": 7,
     "metadata": {},
     "output_type": "execute_result"
    }
   ],
   "source": [
    "# - из строки\n",
    "#   - Вернуть список слов\n",
    "string_test.split(' ')  #\n",
    "# генератор \n",
    "[x for x in string_test.split()]"
   ]
  },
  {
   "cell_type": "code",
   "execution_count": 9,
   "metadata": {},
   "outputs": [
    {
     "data": {
      "text/plain": [
       "['In [2]',\n",
       " 'your [4]',\n",
       " 'head, [5]',\n",
       " 'in [2]',\n",
       " 'your [4]',\n",
       " 'head, [5]',\n",
       " 'they [4]',\n",
       " 'are [3]',\n",
       " 'fighting [8]']"
      ]
     },
     "execution_count": 9,
     "metadata": {},
     "output_type": "execute_result"
    }
   ],
   "source": [
    "# - Вернуть список слов и рядом с каждым словом его длину в [ ]\n",
    "[x + f' [{len(x)}]' for x in string_test.split()]"
   ]
  },
  {
   "cell_type": "code",
   "execution_count": 12,
   "metadata": {},
   "outputs": [
    {
     "data": {
      "text/plain": [
       "['In (0)',\n",
       " 'your (1)',\n",
       " 'head, (2)',\n",
       " 'in (3)',\n",
       " 'your (4)',\n",
       " 'head, (5)',\n",
       " 'they (6)',\n",
       " 'are (7)',\n",
       " 'fighting (8)']"
      ]
     },
     "execution_count": 12,
     "metadata": {},
     "output_type": "execute_result"
    }
   ],
   "source": [
    "# - Вернуть список слов и рядом с каждым словом его порядковый номер в ( ) в предложении\n",
    "[x + f' ({i})' for i, x in enumerate(string_test.split())]"
   ]
  },
  {
   "cell_type": "code",
   "execution_count": 14,
   "metadata": {},
   "outputs": [
    {
     "data": {
      "text/plain": [
       "['iN', 'YOUR', 'HEAD,', 'IN', 'YOUR', 'HEAD,', 'THEY', 'ARE', 'FIGHTING']"
      ]
     },
     "execution_count": 14,
     "metadata": {},
     "output_type": "execute_result"
    }
   ],
   "source": [
    "# - В каждом слове поменять регистр символов на противоположный\n",
    "[x.swapcase() for x in string_test.split()]\n"
   ]
  },
  {
   "cell_type": "code",
   "execution_count": 13,
   "metadata": {},
   "outputs": [
    {
     "data": {
      "text/plain": [
       "['nI', 'ruoy', ',daeh', 'ni', 'ruoy', ',daeh', 'yeht', 'era', 'gnithgif']"
      ]
     },
     "execution_count": 13,
     "metadata": {},
     "output_type": "execute_result"
    }
   ],
   "source": [
    "# - В каждом слове поменять буквы местами на противоположный\n",
    "[x[::-1] for x in string_test.split()]"
   ]
  },
  {
   "cell_type": "code",
   "execution_count": 42,
   "metadata": {},
   "outputs": [
    {
     "data": {
      "text/plain": [
       "['In', 'oruy', 'da,he', 'ni', 'uoyr', 'eah,d', 'tyeh', 'ear', 'gnthifgi']"
      ]
     },
     "execution_count": 42,
     "metadata": {},
     "output_type": "execute_result"
    }
   ],
   "source": [
    "# - В каждом слове поменять буквы местами случайным образом\n",
    "import random\n",
    "def get_random_letter(word: str)->str:\n",
    "    word = [x for x in word]\n",
    "    random.shuffle(word) \n",
    "    return ''.join(word)\n",
    "\n",
    "[get_random_letter(x) for x in string_test.split()]"
   ]
  },
  {
   "cell_type": "code",
   "execution_count": 49,
   "metadata": {},
   "outputs": [
    {
     "data": {
      "text/plain": [
       "['__', '_ou_', '_ead_', '__', '_ou_', '_ead_', '_he_', '_r_', '_ightin_']"
      ]
     },
     "execution_count": 49,
     "metadata": {},
     "output_type": "execute_result"
    }
   ],
   "source": [
    "# - В каждом слове первую и последнюю букву заменить на '_'\n",
    "def change(word:str)->str:\n",
    "    word = [x for x in word]\n",
    "    word[0] = word[-1] = '_'\n",
    "    return ''.join(word)\n",
    "[change(x) for x in string_test.split()]"
   ]
  },
  {
   "cell_type": "code",
   "execution_count": 50,
   "metadata": {},
   "outputs": [
    {
     "data": {
      "text/plain": [
       "['__', '____', '_____', '__', '____', '_____', '____', '___', '________']"
      ]
     },
     "execution_count": 50,
     "metadata": {},
     "output_type": "execute_result"
    }
   ],
   "source": [
    "# - В каждом слове заменить каждую букву на '_'\n",
    "[\"_\"*len(x) for x in string_test.split()]"
   ]
  },
  {
   "cell_type": "code",
   "execution_count": 54,
   "metadata": {},
   "outputs": [
    {
     "data": {
      "text/plain": [
       "['__', '____', 'head,', '__', '____', 'head,', '____', '___', 'fighting']"
      ]
     },
     "execution_count": 54,
     "metadata": {},
     "output_type": "execute_result"
    }
   ],
   "source": [
    "#  - В каждом слове заменить каждую букву на '_' если длина слова меньше 5 символов\n",
    "[\"_\"*len(x) if len(x)<5 else x for x in string_test.split() ]"
   ]
  },
  {
   "cell_type": "code",
   "execution_count": 61,
   "metadata": {},
   "outputs": [
    {
     "data": {
      "text/plain": [
       "['IN', 'youR', 'head,', 'iN', 'youR', 'head,', 'theY', 'arE', 'fightinG']"
      ]
     },
     "execution_count": 61,
     "metadata": {},
     "output_type": "execute_result"
    }
   ],
   "source": [
    "# - Каждую последнюю букву в слове с большой буквы\n",
    "[(lambda i: i[:-1] +i[-1].upper())(x) for x in string_test.split()]"
   ]
  },
  {
   "cell_type": "code",
   "execution_count": 64,
   "metadata": {},
   "outputs": [
    {
     "data": {
      "text/plain": [
       "['in', 'YOUR', 'head,', 'IN', 'your', 'HEAD,', 'they', 'ARE', 'fighting']"
      ]
     },
     "execution_count": 64,
     "metadata": {},
     "output_type": "execute_result"
    }
   ],
   "source": [
    "# - Каждое второе слово написать большими буквами, а остальные слова маленькими\n",
    "[x.lower() if i%2==0  else x.upper()  for i, x in enumerate(string_test.split())]"
   ]
  },
  {
   "cell_type": "code",
   "execution_count": 66,
   "metadata": {},
   "outputs": [
    {
     "data": {
      "text/plain": [
       "['_n', '___r', 'h__d,', '_n', '___r', 'h__d,', 'th__', '_r_', 'f_ght_ng']"
      ]
     },
     "execution_count": 66,
     "metadata": {},
     "output_type": "execute_result"
    }
   ],
   "source": [
    "# - Заменить все гласные буквы на '_'\n",
    "import re\n",
    "[(lambda i: re.sub(r'[aeiouyAEIOUY]','_',i))(x)  for x in string_test.split()]"
   ]
  },
  {
   "cell_type": "code",
   "execution_count": 78,
   "metadata": {},
   "outputs": [
    {
     "data": {
      "text/plain": [
       "['head,', 'In', 'your', 'in', 'head,', 'your', 'are', 'fighting', 'they']"
      ]
     },
     "execution_count": 78,
     "metadata": {},
     "output_type": "execute_result"
    }
   ],
   "source": [
    "# - Поменять слова местами случайным образом\n",
    "[x for x in random.sample(string_test.split(), len(string_test.split()))]"
   ]
  },
  {
   "cell_type": "code",
   "execution_count": 79,
   "metadata": {},
   "outputs": [
    {
     "data": {
      "text/plain": [
       "['In', 'in', 'are', 'your', 'your', 'they', 'head,', 'head,', 'fighting']"
      ]
     },
     "execution_count": 79,
     "metadata": {},
     "output_type": "execute_result"
    }
   ],
   "source": [
    "#  - Сформировать список слов отсортированных по количеству букв в каждом слове\n",
    "[x for x in sorted(string_test.split(), key=lambda i: len(i))]"
   ]
  },
  {
   "cell_type": "code",
   "execution_count": 80,
   "metadata": {},
   "outputs": [
    {
     "data": {
      "text/plain": [
       "['u', 'y', 'g', 'a', 'i', 't', 'I', 'o', 'r', 'e', 'h', ',', 'f', 'd', 'n']"
      ]
     },
     "execution_count": 80,
     "metadata": {},
     "output_type": "execute_result"
    }
   ],
   "source": [
    "#  - Сформировать список уникальных букв\n",
    "[x for x in set(''.join(string_test.split()))]"
   ]
  },
  {
   "cell_type": "code",
   "execution_count": 83,
   "metadata": {},
   "outputs": [
    {
     "data": {
      "text/plain": [
       "{'u': 2,\n",
       " 'y': 3,\n",
       " 'g': 2,\n",
       " 'a': 3,\n",
       " 'i': 3,\n",
       " 't': 2,\n",
       " 'I': 1,\n",
       " 'o': 2,\n",
       " 'r': 3,\n",
       " 'e': 4,\n",
       " 'h': 4,\n",
       " ',': 2,\n",
       " 'f': 1,\n",
       " 'd': 2,\n",
       " 'n': 3}"
      ]
     },
     "execution_count": 83,
     "metadata": {},
     "output_type": "execute_result"
    }
   ],
   "source": [
    "#   - Сформировать список уникальных букв и их количество, (а может словарь)\n",
    "{ x: ''.join(string_test.split()).count(x) for x in set(''.join(string_test.split()))}\n"
   ]
  }
 ],
 "metadata": {
  "kernelspec": {
   "display_name": "Python 3",
   "language": "python",
   "name": "python3"
  },
  "language_info": {
   "codemirror_mode": {
    "name": "ipython",
    "version": 3
   },
   "file_extension": ".py",
   "mimetype": "text/x-python",
   "name": "python",
   "nbconvert_exporter": "python",
   "pygments_lexer": "ipython3",
   "version": "3.10.7 (tags/v3.10.7:6cc6b13, Sep  5 2022, 14:08:36) [MSC v.1933 64 bit (AMD64)]"
  },
  "orig_nbformat": 4,
  "vscode": {
   "interpreter": {
    "hash": "a65de8c931b388a9bc6e0bc465c0c6fe0a811da7d30de2aaa2b96780d2f2ccdc"
   }
  }
 },
 "nbformat": 4,
 "nbformat_minor": 2
}
