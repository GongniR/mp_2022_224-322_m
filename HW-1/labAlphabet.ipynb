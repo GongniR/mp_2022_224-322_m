{
 "cells": [
  {
   "cell_type": "markdown",
   "metadata": {},
   "source": [
    "Способ №1"
   ]
  },
  {
   "cell_type": "code",
   "execution_count": 3,
   "metadata": {},
   "outputs": [
    {
     "name": "stdout",
     "output_type": "stream",
     "text": [
      "а б в г д е ё ж з и й к л м н о п р с т у ф х ц ч ш щ ъ ы ь э ю я \n",
      "я ю э ь ы ъ щ ш ч ц х ф у т с р п о н м л к й и з ж ё е д г в б а \n"
     ]
    }
   ],
   "source": [
    "alphabet = \"абвгдеёжзийклмнопрстуфхцчшщъыьэюя\"\n",
    "\n",
    "for i in alphabet:\n",
    "    print(i, end= \" \")\n",
    "print()\n",
    "\n",
    "for i in reversed(alphabet):\n",
    "    print(i, end= \" \")\n",
    "print()"
   ]
  },
  {
   "cell_type": "markdown",
   "metadata": {},
   "source": [
    "Способ №2"
   ]
  },
  {
   "cell_type": "code",
   "execution_count": 4,
   "metadata": {},
   "outputs": [
    {
     "name": "stdout",
     "output_type": "stream",
     "text": [
      "а б в г д е ж з и й к л м н о п р с т у ф х ц ч ш щ ъ ы ь э ю я \n",
      "я ю э ь ы ъ щ ш ч ц х ф у т с р п о н м л к й и з ж е д г в б а \n"
     ]
    }
   ],
   "source": [
    "for i in range(ord('а'),ord('я')+1):\n",
    "    print(chr(i), end=\" \")\n",
    "print()\n",
    "\n",
    "for i in range(ord('я'),ord('а')-1, -1):\n",
    "    print(chr(i), end=\" \")\n",
    "print()"
   ]
  }
 ],
 "metadata": {
  "kernelspec": {
   "display_name": "Python 3.10.7 64-bit",
   "language": "python",
   "name": "python3"
  },
  "language_info": {
   "codemirror_mode": {
    "name": "ipython",
    "version": 3
   },
   "file_extension": ".py",
   "mimetype": "text/x-python",
   "name": "python",
   "nbconvert_exporter": "python",
   "pygments_lexer": "ipython3",
   "version": "3.10.7"
  },
  "orig_nbformat": 4,
  "vscode": {
   "interpreter": {
    "hash": "a65de8c931b388a9bc6e0bc465c0c6fe0a811da7d30de2aaa2b96780d2f2ccdc"
   }
  }
 },
 "nbformat": 4,
 "nbformat_minor": 2
}
