{
 "cells": [
  {
   "attachments": {},
   "cell_type": "markdown",
   "metadata": {},
   "source": [
    "# Сборник итераторов"
   ]
  },
  {
   "attachments": {},
   "cell_type": "markdown",
   "metadata": {},
   "source": [
    "## Бесконечные итераторы"
   ]
  },
  {
   "cell_type": "code",
   "execution_count": 2,
   "metadata": {},
   "outputs": [],
   "source": [
    "import itertools"
   ]
  },
  {
   "cell_type": "code",
   "execution_count": 3,
   "metadata": {},
   "outputs": [
    {
     "name": "stdout",
     "output_type": "stream",
     "text": [
      "A B C D A B C D A B C D A B C D A B C D A B C D A B C D A B "
     ]
    }
   ],
   "source": [
    "n = 0\n",
    "for i in itertools.cycle('ABCD'):\n",
    "    if n >= 30:\n",
    "        break\n",
    "    print(i, end=' ')\n",
    "    n += 1"
   ]
  },
  {
   "cell_type": "code",
   "execution_count": 4,
   "metadata": {},
   "outputs": [
    {
     "name": "stdout",
     "output_type": "stream",
     "text": [
      "A B C D A B C D A B C D A B C D A B C D A B C D A B C D A B "
     ]
    }
   ],
   "source": [
    "# альтернатива itertools.cycle\n",
    "\n",
    "def my_cycle(iterable):\n",
    "    saved = []\n",
    "    for element in iterable:\n",
    "        yield element\n",
    "        saved.append(element)\n",
    "    while saved:\n",
    "        for element in iterable: \n",
    "            yield element\n",
    "\n",
    "n = 0\n",
    "for i in my_cycle(\"ABCD\"):\n",
    "    if n >= 30:\n",
    "        break\n",
    "    print(i, end=' ')\n",
    "    n += 1"
   ]
  },
  {
   "cell_type": "code",
   "execution_count": 5,
   "metadata": {},
   "outputs": [
    {
     "name": "stdout",
     "output_type": "stream",
     "text": [
      "Москва\n",
      "Воронеж\n",
      "Калуга\n",
      "Москва\n",
      "Воронеж\n",
      "Калуга\n"
     ]
    }
   ],
   "source": [
    "it_cities = itertools.cycle(['Москва', \"Воронеж\", \"Калуга\"])\n",
    "print(next(it_cities))\n",
    "print(next(it_cities))\n",
    "print(next(it_cities))\n",
    "print(next(it_cities))\n",
    "print(next(it_cities))\n",
    "print(next(it_cities))"
   ]
  },
  {
   "cell_type": "code",
   "execution_count": 6,
   "metadata": {},
   "outputs": [
    {
     "name": "stdout",
     "output_type": "stream",
     "text": [
      "on\n",
      "off\n",
      "on\n",
      "off\n",
      "on\n"
     ]
    }
   ],
   "source": [
    "it_states = itertools.cycle(['on', \"off\"])\n",
    "for _ in range(5):\n",
    "    print(next(it_states))"
   ]
  },
  {
   "cell_type": "code",
   "execution_count": 7,
   "metadata": {},
   "outputs": [
    {
     "name": "stdout",
     "output_type": "stream",
     "text": [
      "Hello Hello Hello Hello Hello "
     ]
    }
   ],
   "source": [
    "for i in itertools.repeat('Hello', 5):\n",
    "    print(i, end=' ')"
   ]
  },
  {
   "attachments": {},
   "cell_type": "markdown",
   "metadata": {},
   "source": [
    "## Конечные итераторы"
   ]
  },
  {
   "cell_type": "code",
   "execution_count": 8,
   "metadata": {},
   "outputs": [
    {
     "name": "stdout",
     "output_type": "stream",
     "text": [
      "1 2 3 4 5 6 7 8 9\n",
      "1 3 6 10 15 21 28 36 45\n",
      "10 11 13 16 20 25 31 38 46 55\n"
     ]
    }
   ],
   "source": [
    "print(*range(1, 10))\n",
    "print(*itertools.accumulate(range(1, 10))) # Сложение\n",
    "print(*itertools.accumulate(range(1, 10), initial=10))"
   ]
  },
  {
   "cell_type": "code",
   "execution_count": 9,
   "metadata": {},
   "outputs": [
    {
     "name": "stdout",
     "output_type": "stream",
     "text": [
      "1 2 3 4 5 6 7 8 9\n",
      "1 2 6 24 120 720 5040 40320 362880\n",
      "1 2.0 3.5 5.5 8.0 11.0 14.5 18.5 23.0\n"
     ]
    }
   ],
   "source": [
    "import operator\n",
    "\n",
    "print(*range(1, 10))\n",
    "print(*itertools.accumulate(range(1, 10), operator.mul))\n",
    "print(*itertools.accumulate(range(1, 10), func= lambda a, b: a + b / 2))"
   ]
  },
  {
   "cell_type": "code",
   "execution_count": 10,
   "metadata": {},
   "outputs": [
    {
     "name": "stdout",
     "output_type": "stream",
     "text": [
      "A B C 0 1 2 3 4 -1 -2\n"
     ]
    }
   ],
   "source": [
    "print(*itertools.chain('ABC', range(5), [-1, -2]))"
   ]
  },
  {
   "attachments": {},
   "cell_type": "markdown",
   "metadata": {},
   "source": [
    "## Комбинированные итераторы"
   ]
  },
  {
   "attachments": {},
   "cell_type": "markdown",
   "metadata": {},
   "source": [
    "# HW:\n",
    "- внимательно прочитать документацию по itertools\n",
    "- создать примеры на другие итераторы, которые мы не рассмотрели на занятиях"
   ]
  },
  {
   "cell_type": "code",
   "execution_count": 3,
   "metadata": {},
   "outputs": [
    {
     "name": "stdout",
     "output_type": "stream",
     "text": [
      "(1, 'Geeks')\n",
      "(2, 'for')\n",
      "(3, 'Geeks')\n"
     ]
    }
   ],
   "source": [
    "import itertools\n",
    "\n",
    "# list containing some strings\n",
    "my_list =[\"Geeks\", \"for\", \"Geeks\"]\n",
    "  \n",
    "# count spits out integers for \n",
    "# each value in my list\n",
    "for i in zip(itertools.count(start = 1, step = 1), my_list):\n",
    "    # prints tuple in an enumerated \n",
    "    # format\n",
    "    print(i)\n",
    "\n",
    "# Создайте итератор, который возвращает равномерно распределенные значения, начиная с номера start. \n",
    "# Часто используется в качестве аргумента функции map() для создания последовательных точек данных. \n",
    "# Также используется с zip() для добавления порядковых номеров. Примерно эквивалентно:\n",
    "def count(start=0, step=1):\n",
    "    # count(10) --> 10 11 12 13 14 ...\n",
    "    # count(2.5, 0.5) --> 2.5 3.0 3.5 ...\n",
    "    n = start\n",
    "    while True:\n",
    "        yield n\n",
    "        n += step\n",
    "\n",
    "# При подсчете с помощью чисел с плавающей запятой иногда можно добиться большей точности, \n",
    "# подставив мультипликативный код, например: (start + step * i for i in count()) вместо i в count ())."
   ]
  },
  {
   "cell_type": "code",
   "execution_count": 6,
   "metadata": {},
   "outputs": [
    {
     "name": "stdout",
     "output_type": "stream",
     "text": [
      "Python\n"
     ]
    }
   ],
   "source": [
    "# Python code to demonstrate the working of   \n",
    "# compress() \n",
    "  \n",
    "  \n",
    "import itertools\n",
    "import operator\n",
    "  \n",
    "  \n",
    "Codes =['C', 'C++', 'Java', 'Python']\n",
    "selectors = [False, False, False, True]\n",
    "  \n",
    "Best_Programming = itertools.compress(Codes, selectors)\n",
    "  \n",
    "for each in Best_Programming:\n",
    "    print(each)"
   ]
  },
  {
   "cell_type": "code",
   "execution_count": 7,
   "metadata": {},
   "outputs": [
    {
     "name": "stdout",
     "output_type": "stream",
     "text": [
      "[-8, -4, 2]\n"
     ]
    }
   ],
   "source": [
    "# Python code to demonstrate the working of   \n",
    "# dropwhile() \n",
    "  \n",
    "  \n",
    "# Function to be passed\n",
    "# as an argument\n",
    "def is_positive(n):\n",
    "    return n > 0 \n",
    "  \n",
    "value_list =[5, 6, -8, -4, 2]\n",
    "result = list(itertools.dropwhile(is_positive, value_list)) \n",
    "   \n",
    "print(result) "
   ]
  },
  {
   "cell_type": "code",
   "execution_count": 8,
   "metadata": {},
   "outputs": [
    {
     "name": "stdout",
     "output_type": "stream",
     "text": [
      "0\n",
      "[]\n"
     ]
    }
   ],
   "source": [
    "# Python program to demonstrate \n",
    "# the working of filterfalse \n",
    "import itertools\n",
    "from itertools import filterfalse \n",
    "    \n",
    "    \n",
    "# function is a None\n",
    "for i in filterfalse(None, range(20)):  \n",
    "    print(i) \n",
    "        \n",
    "        \n",
    "li = [2, 4, 5, 7, 8, 10, 20]  \n",
    "    \n",
    "# Slicing the list \n",
    "print(list(itertools.filterfalse(None, li)))  "
   ]
  },
  {
   "cell_type": "code",
   "execution_count": 9,
   "metadata": {},
   "outputs": [
    {
     "name": "stdout",
     "output_type": "stream",
     "text": [
      "a : [('a', 1), ('a', 2)]\n",
      "b : [('b', 3), ('b', 4)]\n"
     ]
    }
   ],
   "source": [
    "# Python code to demonstrate \n",
    "# itertools.groupby() method \n",
    "  \n",
    "  \n",
    "import itertools\n",
    "  \n",
    "  \n",
    "L = [(\"a\", 1), (\"a\", 2), (\"b\", 3), (\"b\", 4)]\n",
    "  \n",
    "# Key function\n",
    "key_func = lambda x: x[0]\n",
    "  \n",
    "for key, group in itertools.groupby(L, key_func):\n",
    "    print(key + \" :\", list(group))"
   ]
  },
  {
   "cell_type": "code",
   "execution_count": 10,
   "metadata": {},
   "outputs": [
    {
     "name": "stdout",
     "output_type": "stream",
     "text": [
      "0\n",
      "1\n",
      "2\n",
      "3\n",
      "4\n",
      "[4, 7, 10]\n"
     ]
    }
   ],
   "source": [
    "# Python program to demonstrate\n",
    "# the working of islice\n",
    "  \n",
    "from itertools import islice\n",
    "  \n",
    "  \n",
    "# Slicing the range function\n",
    "for i in islice(range(20), 5): \n",
    "    print(i)\n",
    "      \n",
    "      \n",
    "li = [2, 4, 5, 7, 8, 10, 20] \n",
    "  \n",
    "# Slicing the list\n",
    "print(list(itertools.islice(li, 1, 6, 2)))  "
   ]
  },
  {
   "cell_type": "code",
   "execution_count": 12,
   "metadata": {},
   "outputs": [
    {
     "name": "stdout",
     "output_type": "stream",
     "text": [
      "[(1, 2), (2, 3), (3, 4), (4, 5), (5, 6), (6, 7), (7, 8), (8, 9), (9, 10)]\n"
     ]
    }
   ],
   "source": [
    "from itertools import pairwise\n",
    "\n",
    "def pairwise_example(iterable):\n",
    "    paired = pairwise(iterable)\n",
    "    print(list(paired))\n",
    "\n",
    "pairwise_example([1,2,3,4,5,6,7,8,9,10])"
   ]
  },
  {
   "cell_type": "code",
   "execution_count": 13,
   "metadata": {},
   "outputs": [
    {
     "name": "stdout",
     "output_type": "stream",
     "text": [
      "[1, 2, 3, 4, 5, 6, 7, 8, 9, 10, 11, 12]\n"
     ]
    }
   ],
   "source": [
    "from itertools import chain\n",
    "\n",
    "def chain_from_iterable_example(iterable):\n",
    "    chained = chain.from_iterable(iterable)\n",
    "    print(list(chained))\n",
    "\n",
    "chain_from_iterable_example([[1,2,3], [4,5,6], [7,8,9], [10,11,12]])"
   ]
  },
  {
   "cell_type": "code",
   "execution_count": 14,
   "metadata": {},
   "outputs": [
    {
     "name": "stdout",
     "output_type": "stream",
     "text": [
      "[(1, 'a'), (1, 'b'), (1, 'c'), (2, 'a'), (2, 'b'), (2, 'c'), (3, 'a'), (3, 'b'), (3, 'c')]\n"
     ]
    }
   ],
   "source": [
    "from itertools import product\n",
    "\n",
    "def product_example(iterable1, iterable2):\n",
    "    result = product(iterable1, iterable2)\n",
    "    print(list(result))\n",
    "\n",
    "product_example([1, 2, 3], [\"a\", \"b\", \"c\"])"
   ]
  },
  {
   "cell_type": "code",
   "execution_count": 15,
   "metadata": {},
   "outputs": [
    {
     "name": "stdout",
     "output_type": "stream",
     "text": [
      "[('A', 'B'), ('A', 'C'), ('A', 'D'), ('B', 'A'), ('B', 'C'), ('B', 'D'), ('C', 'A'), ('C', 'B'), ('C', 'D'), ('D', 'A'), ('D', 'B'), ('D', 'C')]\n"
     ]
    }
   ],
   "source": [
    "from itertools import permutations\n",
    "\n",
    "def permutaions_example(iterable, size):\n",
    "    result = permutations(iterable, size)\n",
    "    print(list(result))\n",
    "\n",
    "permutaions_example(\"ABCD\", 2) "
   ]
  },
  {
   "cell_type": "code",
   "execution_count": 16,
   "metadata": {},
   "outputs": [
    {
     "name": "stdout",
     "output_type": "stream",
     "text": [
      "[('A', 'B'), ('A', 'C'), ('A', 'D'), ('B', 'C'), ('B', 'D'), ('C', 'D')]\n"
     ]
    }
   ],
   "source": [
    "from itertools import combinations\n",
    "\n",
    "def permutaions_example(iterable, size):\n",
    "    result = combinations(iterable, size)\n",
    "    print(list(result))\n",
    "\n",
    "permutaions_example(\"ABCD\", 2) "
   ]
  },
  {
   "cell_type": "code",
   "execution_count": 17,
   "metadata": {},
   "outputs": [
    {
     "name": "stdout",
     "output_type": "stream",
     "text": [
      "The combined values of iterables is  : \n",
      "('G', 'e') ('e', 'k') ('s', 'f') ('o', 'r') ('G', 'e') ('e', 'k') ('s', '_')\n"
     ]
    }
   ],
   "source": [
    "import itertools  \n",
    "      \n",
    "# using zip_longest() to combine two iterables.  \n",
    "print (\"The combined values of iterables is  : \")  \n",
    "print (*(itertools.zip_longest('GesoGes', 'ekfrek', fillvalue ='_' )))  "
   ]
  },
  {
   "cell_type": "code",
   "execution_count": 18,
   "metadata": {},
   "outputs": [
    {
     "name": "stdout",
     "output_type": "stream",
     "text": [
      "[(1, 8), (2, 9), (3, 10), (4, None), (5, None), (6, None), (7, None)]\n"
     ]
    }
   ],
   "source": [
    "from itertools import zip_longest\n",
    "  \n",
    "  \n",
    "x =[1, 2, 3, 4, 5, 6, 7]\n",
    "y =[8, 9, 10]\n",
    "z = list(zip_longest(x, y))\n",
    "print(z)"
   ]
  }
 ],
 "metadata": {
  "kernelspec": {
   "display_name": "Python 3",
   "language": "python",
   "name": "python3"
  },
  "language_info": {
   "codemirror_mode": {
    "name": "ipython",
    "version": 3
   },
   "file_extension": ".py",
   "mimetype": "text/x-python",
   "name": "python",
   "nbconvert_exporter": "python",
   "pygments_lexer": "ipython3",
   "version": "3.10.7 (tags/v3.10.7:6cc6b13, Sep  5 2022, 14:08:36) [MSC v.1933 64 bit (AMD64)]"
  },
  "orig_nbformat": 4,
  "vscode": {
   "interpreter": {
    "hash": "a65de8c931b388a9bc6e0bc465c0c6fe0a811da7d30de2aaa2b96780d2f2ccdc"
   }
  }
 },
 "nbformat": 4,
 "nbformat_minor": 2
}
