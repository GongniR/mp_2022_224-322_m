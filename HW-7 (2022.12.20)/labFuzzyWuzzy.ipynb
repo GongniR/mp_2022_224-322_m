{
 "cells": [
  {
   "attachments": {},
   "cell_type": "markdown",
   "metadata": {},
   "source": [
    "# HW:\n",
    "- изучить остальные возможности FuzzyWuzzy из документации\n",
    "- создать свои примеры"
   ]
  },
  {
   "cell_type": "code",
   "execution_count": 18,
   "metadata": {},
   "outputs": [
    {
     "name": "stdout",
     "output_type": "stream",
     "text": [
      "60\n",
      "95\n",
      "75\n",
      "100\n",
      "60\n"
     ]
    }
   ],
   "source": [
    "# Сравнение строк\n",
    "from fuzzywuzzy import fuzz\n",
    "\n",
    "s1 = \"Сравнение строк\"\n",
    "s2 = \"строк Сравнение\"\n",
    "\n",
    "print(fuzz.ratio(s1, s2))\n",
    "print(fuzz.WRatio(s1, s2))\n",
    "print(fuzz.partial_ratio(s1, s2))\n",
    "print(fuzz.token_sort_ratio(s1, s2))\n",
    "print(fuzz.UQRatio(s1, s2))"
   ]
  },
  {
   "cell_type": "code",
   "execution_count": 22,
   "metadata": {},
   "outputs": [
    {
     "name": "stdout",
     "output_type": "stream",
     "text": [
      "[(' Владимир', 100), (' Владикавказ', 53), (' Владивосток', 53), (' Вологда', 40)]\n",
      "(' Владимир', 86)\n"
     ]
    }
   ],
   "source": [
    "# Сравнение со списком\n",
    "from fuzzywuzzy import process\n",
    "\n",
    "cities = \"Москва, Воронеж, Владимир, Вологда, Владикавказ, Владивосток, Смоленск\".split(',')\n",
    "\n",
    "print(process.extract(\"Владимир\", cities, limit=4))\n",
    "print(process.extractOne(\"Владим\", cities))"
   ]
  },
  {
   "cell_type": "code",
   "execution_count": 19,
   "metadata": {},
   "outputs": [
    {
     "data": {
      "text/plain": [
       "[('Терминатор', 90),\n",
       " ('Терминатор 2: Судный день', 90),\n",
       " ('Терминатор 3: Восстание машин', 90),\n",
       " ('Терминатор (сериал)', 90)]"
      ]
     },
     "execution_count": 19,
     "metadata": {},
     "output_type": "execute_result"
    }
   ],
   "source": [
    "movies = [\"Терминатор\", \"Терминатор 2: Судный день\", \"Терминатор 3: Восстание машин\", \"Терминатор (сериал)\", \"Терминал\", \"Троял\"]\n",
    "\n",
    "process.extract(\"Терм\", movies, limit=4)"
   ]
  },
  {
   "cell_type": "code",
   "execution_count": 24,
   "metadata": {},
   "outputs": [
    {
     "name": "stdout",
     "output_type": "stream",
     "text": [
      "dict_keys(['гайка 4 ГОСТ-1828 оцинкованная ...', 'Болты на 10', 'БОЛТ'])\n"
     ]
    }
   ],
   "source": [
    "arr = ['Гайка на 4', 'гайка 4 ГОСТ-1828 оцинкованная', 'Болты на 10', 'гайка 4 ГОСТ-1828 оцинкованная ...', 'БОЛТ']\n",
    "print(process.dedupe(arr))"
   ]
  }
 ],
 "metadata": {
  "kernelspec": {
   "display_name": "Python 3",
   "language": "python",
   "name": "python3"
  },
  "language_info": {
   "codemirror_mode": {
    "name": "ipython",
    "version": 3
   },
   "file_extension": ".py",
   "mimetype": "text/x-python",
   "name": "python",
   "nbconvert_exporter": "python",
   "pygments_lexer": "ipython3",
   "version": "3.10.7 (tags/v3.10.7:6cc6b13, Sep  5 2022, 14:08:36) [MSC v.1933 64 bit (AMD64)]"
  },
  "orig_nbformat": 4,
  "vscode": {
   "interpreter": {
    "hash": "a65de8c931b388a9bc6e0bc465c0c6fe0a811da7d30de2aaa2b96780d2f2ccdc"
   }
  }
 },
 "nbformat": 4,
 "nbformat_minor": 2
}
