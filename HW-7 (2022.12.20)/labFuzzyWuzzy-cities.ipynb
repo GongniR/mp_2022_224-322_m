{
 "cells": [
  {
   "attachments": {},
   "cell_type": "markdown",
   "metadata": {},
   "source": [
    "# HW:\n",
    "- показать ТОП-10 городов по нечеткому сравнению в виде таблицы с процентом\n",
    "- и т.п."
   ]
  },
  {
   "attachments": {},
   "cell_type": "markdown",
   "metadata": {},
   "source": []
  },
  {
   "cell_type": "code",
   "execution_count": 2,
   "metadata": {},
   "outputs": [
    {
     "name": "stdout",
     "output_type": "stream",
     "text": [
      "Воронеж: 100\n",
      "Нововоронеж: 90\n",
      "Сковородино: 64\n",
      "Грайворон: 62\n",
      "Бор: 60\n",
      "Городец: 57\n",
      "Болотное: 53\n",
      "ВеликийНовгород: 51\n",
      "Ардон: 50\n",
      "Орехово-Зуево: 49\n",
      "Верхотурье: 47\n",
      "Бобров: 46\n",
      "Орёл: 45\n",
      "Бологое: 43\n",
      "Борисоглебск: 42\n",
      "Арсеньев: 40\n",
      "Архангельск: 39\n",
      "Апшеронск: 38\n",
      "Очёр: 36\n",
      "Биробиджан: 35\n",
      "Аргун: 33\n",
      "Наро-Фоминск: 32\n",
      "Бежецк: 31\n",
      "Багратионовск: 30\n",
      "Ардатов: 29\n",
      "Анжеро-Судженск: 27\n",
      "Александров: 26\n",
      "Азнакаево: 25\n",
      "Ак-Довурак: 24\n",
      "Азов: 22\n",
      "Красноуфимск: 21\n",
      "Санкт-Петербург: 18\n",
      "Агрыз: 17\n",
      "Абакан: 15\n",
      "Агидель: 14\n",
      "Абдулино: 13\n",
      "Алапаевск: 12\n",
      "Абаза: 0\n"
     ]
    }
   ],
   "source": [
    "# Нечёткое сравнение + cities\n",
    "import csv\n",
    "from fuzzywuzzy import fuzz, process\n",
    "\n",
    "cities = []\n",
    "search_text = \"Воронеж\"\n",
    "\n",
    "dict_cities = {}\n",
    "\n",
    "with open(\"E:\\GitHub\\mp_2022_224-322_python\\HW-6 (2022.12.13)\\cities.csv\") as f:\n",
    "    reader = csv.DictReader(f, delimiter=';') \n",
    "    for line in reader:\n",
    "        dict_cities[line['Город']] = fuzz.WRatio(search_text, line['Город'])\n",
    "\n",
    "\n",
    "sorted_values = sorted(dict_cities.values(), reverse=True)\n",
    "sorted_dict = {}\n",
    "\n",
    "for i in sorted_values:\n",
    "    for k in dict_cities.keys():\n",
    "        if dict_cities[k] == i:\n",
    "            sorted_dict[k] = dict_cities[k]\n",
    "            break\n",
    "\n",
    "for i in sorted_dict.items():\n",
    "    print(\"{}: {}\".format(i[0], i[1]))"
   ]
  },
  {
   "cell_type": "code",
   "execution_count": 3,
   "metadata": {},
   "outputs": [
    {
     "name": "stdout",
     "output_type": "stream",
     "text": [
      "[('Воронеж', 100), ('Нововоронеж', 90), ('Сковородино', 64), ('Грайворон', 62), ('Олонец', 62), ('Бор', 60), ('Нея', 60), ('Реж', 60), ('Городец', 57), ('Суворов', 57)]\n"
     ]
    }
   ],
   "source": [
    "cities = []\n",
    "search_text = \"Воронеж\"\n",
    "\n",
    "with open(\"E:\\GitHub\\mp_2022_224-322_python\\HW-6 (2022.12.13)\\cities.csv\") as f:\n",
    "    reader = csv.DictReader(f, delimiter=';') \n",
    "    for line in reader:\n",
    "        cities.append(line['Город'])\n",
    "\n",
    "print(process.extract(search_text, cities, limit=10))"
   ]
  }
 ],
 "metadata": {
  "kernelspec": {
   "display_name": "tensorflow",
   "language": "python",
   "name": "python3"
  },
  "language_info": {
   "codemirror_mode": {
    "name": "ipython",
    "version": 3
   },
   "file_extension": ".py",
   "mimetype": "text/x-python",
   "name": "python",
   "nbconvert_exporter": "python",
   "pygments_lexer": "ipython3",
   "version": "3.9.13 (main, Aug 25 2022, 23:51:50) [MSC v.1916 64 bit (AMD64)]"
  },
  "orig_nbformat": 4,
  "vscode": {
   "interpreter": {
    "hash": "b1642829dcebbd77a336cda3c18415e52f062b425948f92aed2c81643aba730e"
   }
  }
 },
 "nbformat": 4,
 "nbformat_minor": 2
}
