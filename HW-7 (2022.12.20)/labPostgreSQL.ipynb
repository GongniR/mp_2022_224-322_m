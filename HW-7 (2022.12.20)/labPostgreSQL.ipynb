{
 "cells": [
  {
   "attachments": {},
   "cell_type": "markdown",
   "metadata": {},
   "source": [
    "# HW:\n",
    "- создание БД, запросы в БД, добавление, обновление и тп.\n"
   ]
  },
  {
   "cell_type": "code",
   "execution_count": 1,
   "metadata": {},
   "outputs": [
    {
     "name": "stdout",
     "output_type": "stream",
     "text": [
      "Collecting psycopg2\n",
      "  Downloading psycopg2-2.9.5-cp39-cp39-win_amd64.whl (1.2 MB)\n",
      "Installing collected packages: psycopg2\n",
      "Successfully installed psycopg2-2.9.5\n"
     ]
    }
   ],
   "source": [
    "!pip install psycopg2"
   ]
  },
  {
   "cell_type": "code",
   "execution_count": 3,
   "metadata": {},
   "outputs": [],
   "source": [
    "import psycopg2\n"
   ]
  },
  {
   "cell_type": "code",
   "execution_count": 9,
   "metadata": {},
   "outputs": [
    {
     "name": "stdout",
     "output_type": "stream",
     "text": [
      "{'user': 'postgres', 'dbname': 'Test', 'host': '127.0.0.1', 'port': '5432', 'tty': '', 'options': '', 'sslmode': 'prefer', 'sslcompression': '0', 'gssencmode': 'prefer', 'krbsrvname': 'postgres', 'target_session_attrs': 'any'} \n",
      "\n",
      "Вы подключены к -  ('PostgreSQL 15.1, compiled by Visual C++ build 1914, 64-bit',) \n",
      "\n"
     ]
    }
   ],
   "source": [
    "# подключение к БД \n",
    "try:\n",
    "    # Подключение к существующей базе данных\n",
    "    connection = psycopg2.connect(user=\"postgres\",\n",
    "                                  # пароль, который указали при установке PostgreSQL\n",
    "                                  password=\"Lololo33\",\n",
    "                                  host=\"127.0.0.1\",\n",
    "                                  database=\"Test\")\n",
    "    # Курсор для выполнения операций с базой данных\n",
    "    cursor = connection.cursor()\n",
    "    print(connection.get_dsn_parameters(), \"\\n\")\n",
    "    # Выполнение SQL-запроса\n",
    "    cursor.execute(\"SELECT version();\")\n",
    "    # Получить результат\n",
    "    record = cursor.fetchone()\n",
    "    print(\"Вы подключены к - \", record, \"\\n\")\n",
    "except Exception as error:\n",
    "    print(\"Ошибка при работе с PostgreSQL\", error)"
   ]
  },
  {
   "cell_type": "code",
   "execution_count": 11,
   "metadata": {},
   "outputs": [
    {
     "name": "stdout",
     "output_type": "stream",
     "text": [
      "Таблица успешно создана в PostgreSQL\n"
     ]
    }
   ],
   "source": [
    "# Создание таблицы \n",
    "# SQL-запрос для создания новой таблицы\n",
    "create_table_query = '''CREATE TABLE mobile\n",
    "                        (ID INT PRIMARY KEY     NOT NULL,\n",
    "                        MODEL           TEXT    NOT NULL,\n",
    "                        PRICE         REAL); '''\n",
    "# Выполнение команды: это создает новую таблицу\n",
    "cursor.execute(create_table_query)\n",
    "connection.commit()\n",
    "print(\"Таблица успешно создана в PostgreSQL\")"
   ]
  },
  {
   "cell_type": "code",
   "execution_count": 15,
   "metadata": {},
   "outputs": [],
   "source": [
    "# Вставка в таблицу \n",
    " # Выполнение SQL-запроса для вставки данных в таблицу\n",
    "insert_query = \"\"\" INSERT INTO mobile (ID, MODEL, PRICE) VALUES (1, 'Iphone12', 1100)\"\"\"\n",
    "cursor.execute(insert_query)\n",
    "connection.commit()"
   ]
  },
  {
   "cell_type": "code",
   "execution_count": 16,
   "metadata": {},
   "outputs": [
    {
     "name": "stdout",
     "output_type": "stream",
     "text": [
      "[(1, 'Iphone12', 1100.0)]\n"
     ]
    }
   ],
   "source": [
    "# Получить результат из таблицы \n",
    "cursor.execute(\"SELECT * from mobile\")\n",
    "record = cursor.fetchall()\n",
    "print(record)"
   ]
  },
  {
   "cell_type": "code",
   "execution_count": 18,
   "metadata": {},
   "outputs": [
    {
     "name": "stdout",
     "output_type": "stream",
     "text": [
      "[(1, 'Iphone12', 1500.0)]\n"
     ]
    }
   ],
   "source": [
    "# Обновление таблицы\n",
    "update_query = \"\"\"Update mobile set price = 1500 where id = 1\"\"\"\n",
    "cursor.execute(update_query)\n",
    "connection.commit()\n",
    "count = cursor.rowcount\n",
    "cursor.execute(\"SELECT * from mobile\")\n",
    "print(cursor.fetchall())"
   ]
  },
  {
   "cell_type": "code",
   "execution_count": 14,
   "metadata": {},
   "outputs": [
    {
     "name": "stdout",
     "output_type": "stream",
     "text": [
      "[]\n"
     ]
    }
   ],
   "source": [
    "# Удаление из таблицы \n",
    "delete_query = \"\"\"Delete from mobile where id = 1\"\"\"\n",
    "cursor.execute(delete_query)\n",
    "connection.commit()\n",
    "count = cursor.rowcount\n",
    "cursor.execute(\"SELECT * from mobile\")\n",
    "print(cursor.fetchall())"
   ]
  }
 ],
 "metadata": {
  "kernelspec": {
   "display_name": "tensorflow",
   "language": "python",
   "name": "python3"
  },
  "language_info": {
   "codemirror_mode": {
    "name": "ipython",
    "version": 3
   },
   "file_extension": ".py",
   "mimetype": "text/x-python",
   "name": "python",
   "nbconvert_exporter": "python",
   "pygments_lexer": "ipython3",
   "version": "3.9.13"
  },
  "orig_nbformat": 4,
  "vscode": {
   "interpreter": {
    "hash": "b1642829dcebbd77a336cda3c18415e52f062b425948f92aed2c81643aba730e"
   }
  }
 },
 "nbformat": 4,
 "nbformat_minor": 2
}
